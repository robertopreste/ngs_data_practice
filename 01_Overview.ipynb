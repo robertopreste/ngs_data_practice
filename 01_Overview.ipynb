{
 "cells": [
  {
   "cell_type": "markdown",
   "metadata": {},
   "source": [
    "# NGS Data Analysis Practice"
   ]
  },
  {
   "cell_type": "markdown",
   "metadata": {},
   "source": [
    "This set of exercises will provide an insight into one of the most common applications of NGS data analysis: the identification of human mitochondrial variants from a sequenced sample.  \n",
    "\n",
    "It will follow the simple workflow described during the [NGS Data Analysis](https://bit.ly/ngs-data) lesson:  \n",
    "\n",
    "- quality check and preprocessing  \n",
    "- alignment  \n",
    "- variant calling  \n",
    "- variant annotation "
   ]
  },
  {
   "cell_type": "markdown",
   "metadata": {},
   "source": [
    "Starting from an output of the sequencing machine, we will first clean these data, align them against a reference mitochondrial genome in order to identify variations, and finally annotate these variations to look for interesting findings. "
   ]
  },
  {
   "cell_type": "markdown",
   "metadata": {},
   "source": [
    "The entire practice will be conducted online, so you will only need a functional web browser and will be able to follow it using your laptop or tablet. "
   ]
  },
  {
   "cell_type": "markdown",
   "metadata": {},
   "source": [
    "___ "
   ]
  },
  {
   "cell_type": "markdown",
   "metadata": {},
   "source": [
    "## Setup instructions "
   ]
  },
  {
   "cell_type": "markdown",
   "metadata": {},
   "source": [
    "### Galaxy"
   ]
  },
  {
   "cell_type": "markdown",
   "metadata": {},
   "source": [
    "Our NGS data analysis will be performed using [Galaxy](https://usegalaxy.org), \"an open source, web-based platform for data intensive biomedical research\". It allows to explore and use several different bioinformatics tools without the need to install them on your machine, since they are all hosted on the Galaxy platform, ready to use with your own data. "
   ]
  },
  {
   "cell_type": "markdown",
   "metadata": {},
   "source": [
    "The only thing required to use Galaxy is registration. In the Galaxy home page, click on **Login or Register** in the top bar, then on **Register**. "
   ]
  },
  {
   "cell_type": "markdown",
   "metadata": {},
   "source": [
    "![](data/imgs/galaxy_1.jpg)"
   ]
  },
  {
   "cell_type": "markdown",
   "metadata": {},
   "source": [
    "In the **Create account** page, fill in your email address and choose a password, then choose a username (only lowercase letters, numbers, `.`, `_` and `-` are allowed!) and finally click on **Submit**. "
   ]
  },
  {
   "cell_type": "markdown",
   "metadata": {},
   "source": [
    "Your should see a notification saying that everything went well and a verification mail was sent to the mail address you provided. Please check your email to click on the verification link in order to start using Galaxy. "
   ]
  },
  {
   "cell_type": "markdown",
   "metadata": {},
   "source": [
    "### Jupyter "
   ]
  },
  {
   "cell_type": "markdown",
   "metadata": {},
   "source": [
    "TBD"
   ]
  },
  {
   "cell_type": "markdown",
   "metadata": {},
   "source": [
    "___ "
   ]
  },
  {
   "cell_type": "markdown",
   "metadata": {},
   "source": [
    "## Tools overview"
   ]
  },
  {
   "cell_type": "markdown",
   "metadata": {},
   "source": [
    "### Galaxy"
   ]
  },
  {
   "cell_type": "markdown",
   "metadata": {},
   "source": [
    "All bioinformatics softwares available on Galaxy are listed in the **ToolBox** on the left. Every tool performs a specific task, and similar tools are grouped together in categories. Tools can also be searched by keyword using the search bar on the top. "
   ]
  },
  {
   "cell_type": "markdown",
   "metadata": {},
   "source": [
    "![](data/imgs/galaxy_2.jpg)"
   ]
  },
  {
   "cell_type": "markdown",
   "metadata": {},
   "source": [
    "When clicking on a specific tool, it will be loaded and is ready to be used on your data. Every tool has its own set of options, which can be tweaked to better suit our specific needs and provide better results.  \n",
    "Below the main pane, a help section is present, with some more information to understand how that specific software works.  \n",
    "When you are ready to use the tool you chose, click on **Execute**. "
   ]
  },
  {
   "cell_type": "markdown",
   "metadata": {},
   "source": [
    "![](data/imgs/galaxy_3.jpg)"
   ]
  },
  {
   "cell_type": "markdown",
   "metadata": {},
   "source": [
    "On the right there is the **History** pane. Every step you take during your analysis will be recorded here, along with details of the data it worked on and specific parameters used.  \n",
    "When you launch a Galaxy tool, a new entry will be added to the **History**: at first it is <span style=\"color:gray\">**gray**</span>, meaning that the analysis is queued and you need to wait; then the tool will start running, and will be shown in <span style=\"color:yellow\">**yellow**</span>; when the tool has successfully completed its job, it will be shown in <span style=\"color:green\">**green**</span>, while in case some errors are issued it will be coloured in <span style=\"color:red\">**red**</span> (and you should raise your hand and ask for my help!). "
   ]
  },
  {
   "cell_type": "markdown",
   "metadata": {},
   "source": [
    "![](data/imgs/galaxy_4.jpg)"
   ]
  },
  {
   "cell_type": "markdown",
   "metadata": {},
   "source": [
    "You can rename your history to something meaningful, as well as renaming each step taken during the analysis, using the pencil icon in each tool. You can also view the results produced by each tool, by clicking on the eye icon, and you can remove a specific step clicking on the X icon. "
   ]
  },
  {
   "cell_type": "code",
   "execution_count": null,
   "metadata": {},
   "outputs": [],
   "source": []
  },
  {
   "cell_type": "markdown",
   "metadata": {},
   "source": [
    "### Jupyter "
   ]
  },
  {
   "cell_type": "markdown",
   "metadata": {},
   "source": [
    "TBD"
   ]
  },
  {
   "cell_type": "code",
   "execution_count": null,
   "metadata": {},
   "outputs": [],
   "source": []
  }
 ],
 "metadata": {
  "kernelspec": {
   "display_name": "Python 3",
   "language": "python",
   "name": "python3"
  },
  "language_info": {
   "codemirror_mode": {
    "name": "ipython",
    "version": 3
   },
   "file_extension": ".py",
   "mimetype": "text/x-python",
   "name": "python",
   "nbconvert_exporter": "python",
   "pygments_lexer": "ipython3",
   "version": "3.6.6"
  }
 },
 "nbformat": 4,
 "nbformat_minor": 2
}
